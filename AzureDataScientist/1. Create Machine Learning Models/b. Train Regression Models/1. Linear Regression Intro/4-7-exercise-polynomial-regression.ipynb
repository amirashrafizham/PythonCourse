{
  "cells": [
    {
      "cell_type": "markdown",
      "source": [
        "# Exercise: Fitting a Polynomial Curve"
      ],
      "metadata": {},
      "id": "e49a8680-58ab-4a84-910a-4abd0a80ea41"
    },
    {
      "cell_type": "markdown",
      "source": [
        "In this exercise, we'll have a look at a different type of regression called _polynomial regression_.\n",
        "In contrast to _linear regression_ which models relationships as straight lines, _polynomial regression_ models relationships as curves.\n",
        "\n",
        "Recall in our previous exercise how the relationship between `core_temperature` and `protein_content_of_last_meal` could not be properly explained using a straight line. In this exercise, we'll use _polynomial regression_ to fit a curve to the data instead.\n",
        "\n",
        "## Data visualisation\n",
        "\n",
        "Let's start this exercise by loading in and having a look at our data."
      ],
      "metadata": {},
      "id": "70158e11-8dbc-4958-9cc2-f401463617be"
    },
    {
      "cell_type": "code",
      "source": [
        "import pandas\n",
        "!pip install statsmodels\n",
        "!wget https://raw.githubusercontent.com/MicrosoftDocs/mslearn-introduction-to-machine-learning/main/graphing.py\n",
        "!wget https://raw.githubusercontent.com/MicrosoftDocs/mslearn-introduction-to-machine-learning/main/Data/doggy-illness.csv\n",
        "\n",
        "#Import the data from the .csv file\n",
        "dataset = pandas.read_csv('doggy-illness.csv', delimiter=\"\\t\")\n",
        "\n",
        "#Let's have a look at the data\n",
        "dataset"
      ],
      "outputs": [],
      "execution_count": null,
      "metadata": {
        "scrolled": true
      },
      "id": "16ecee93-8969-4290-a490-928faa956a44"
    },
    {
      "cell_type": "markdown",
      "source": [
        "# Simple Linear Regression\n",
        "\n",
        "Let's quickly jog our memory by performing the same _simple linear regression_ as we did in the previous exercise using the `temperature` and `protein_content_of_last_meal` columns of the dataset. \n"
      ],
      "metadata": {},
      "id": "bb69d5ac-d515-45ee-8f61-3b684763a316"
    },
    {
      "cell_type": "code",
      "source": [
        "import statsmodels.formula.api as smf\n",
        "import graphing # custom graphing code. See our GitHub repo for details\n",
        "\n",
        "# Perform linear regression. This method takes care of\n",
        "# the entire fitting procedure for us.\n",
        "simple_formula = \"core_temperature ~ protein_content_of_last_meal\"\n",
        "simple_model = smf.ols(formula = simple_formula, data = dataset).fit()\n",
        "\n",
        "# Show a graph of the result\n",
        "graphing.scatter_2D(dataset, label_x=\"protein_content_of_last_meal\", \n",
        "                             label_y=\"core_temperature\",\n",
        "                             trendline=lambda x: simple_model.params[1] * x + simple_model.params[0])\n"
      ],
      "outputs": [],
      "execution_count": null,
      "metadata": {},
      "id": "51215855-f939-4f2c-ae4b-3489969555a0"
    },
    {
      "cell_type": "markdown",
      "source": [
        "Notice how the relationship between the two variables is not truly linear. Looking at the plot, it's fairly clear to see that the points tend more heavily towards one side of the line, especially for the higher `core-temperature` and `protein_content_of_last_meal` values. \n",
        "A straight line might not be the best way to describe this relationship.\n",
        "\n",
        "Let's have a quick look at the model's R-Squared score:"
      ],
      "metadata": {},
      "id": "2ed82798-3978-4bbe-a2b4-f7c8d92c864f"
    },
    {
      "cell_type": "code",
      "source": [
        "print(\"R-squared:\", simple_model.rsquared)"
      ],
      "outputs": [],
      "execution_count": null,
      "metadata": {},
      "id": "c7d32651-0458-4633-bd51-34ae9354c584"
    },
    {
      "cell_type": "markdown",
      "source": [
        "That is quite a reasonable R-Squared score, but let's see if we can get an even better one!\n",
        "\n",
        "## Simple Polynomial Regression\n",
        "\n",
        "Let's fit a _simple polynomial regression_ this time. Similarly to a _simple linear regression_, a _simple polynomial regression_ models the relationship between a label and a single feature. Unlike a _simple linear regression_, a _simple polynomial regression_ can explain relationships that aren't simply straight lines.\n",
        "\n",
        "In our example, we are going to use a three parameter polynomial."
      ],
      "metadata": {},
      "id": "b0e9b4e4-8ab5-4cb2-b3a5-30ad4bc3043a"
    },
    {
      "cell_type": "code",
      "source": [
        "# Perform polynomial regression. This method takes care of\n",
        "# the entire fitting procedure for us.\n",
        "polynomial_formula = \"core_temperature ~ protein_content_of_last_meal + I(protein_content_of_last_meal**2)\"\n",
        "polynomial_model = smf.ols(formula = polynomial_formula, data = dataset).fit()\n",
        "\n",
        "# Show a graph of the result\n",
        "graphing.scatter_2D(dataset, label_x=\"protein_content_of_last_meal\", \n",
        "                             label_y=\"core_temperature\",\n",
        "                             # Our trendline is the equation for the polynomial\n",
        "                             trendline=lambda x: polynomial_model.params[2] * x**2 + polynomial_model.params[1] * x + polynomial_model.params[0])\n"
      ],
      "outputs": [],
      "execution_count": null,
      "metadata": {},
      "id": "d631b2e3-3fbd-4075-af4e-c7409775e630"
    },
    {
      "cell_type": "markdown",
      "source": [
        "That looks a lot better already. Let's confirm by having a quick look at the R-Squared score:"
      ],
      "metadata": {},
      "id": "dfec2847-8550-479e-ba1f-785d80ce9760"
    },
    {
      "cell_type": "code",
      "source": [
        "print(\"R-squared:\", polynomial_model.rsquared)"
      ],
      "outputs": [],
      "execution_count": null,
      "metadata": {},
      "id": "30ef1636-1beb-4497-824b-1b8528429151"
    },
    {
      "cell_type": "markdown",
      "source": [
        "That's a better R-Squared_ score than the one obtained from the previous model - great! We can now confidently tell our vet to prioritize dogs who ate a high protein diet the night before. "
      ],
      "metadata": {},
      "id": "8c65db22-f240-4766-95bc-0dae2adeb13a"
    },
    {
      "cell_type": "markdown",
      "source": [
        "Let's chart our model as a 3D chart. We'll view $X$ and $X^2$ as two separate parameters. Notice that if you rotate the visual just right, our regression model is still a flat plane. This is why polynomial models are still considered to be `linear models`."
      ],
      "metadata": {},
      "id": "7e8f3544-658d-4a20-91b6-d8d125d4c280"
    },
    {
      "cell_type": "code",
      "source": [
        "import numpy as np\n",
        "fig = graphing.surface(\n",
        "    x_values=np.array([min(dataset.protein_content_of_last_meal), max(dataset.protein_content_of_last_meal)]),\n",
        "    y_values=np.array([min(dataset.protein_content_of_last_meal)**2, max(dataset.protein_content_of_last_meal)**2]),\n",
        "    calc_z=lambda x,y: polynomial_model.params[0] + (polynomial_model.params[1] * x) + (polynomial_model.params[2] * y),\n",
        "    axis_title_x=\"x\",\n",
        "    axis_title_y=\"x2\",\n",
        "    axis_title_z=\"Core temperature\"\n",
        ")\n",
        "# Add our datapoints to it and display\n",
        "fig.add_scatter3d(x=dataset.protein_content_of_last_meal, y=dataset.protein_content_of_last_meal**2, z=dataset.core_temperature, mode='markers')\n",
        "fig.show()"
      ],
      "outputs": [],
      "execution_count": null,
      "metadata": {},
      "id": "b03f90a9-5e79-4554-beb8-a7798aaf136d"
    },
    {
      "cell_type": "markdown",
      "source": [
        "## Extrapolating\n",
        "\n",
        "Let's see what happens if we extroplate our data. We would like to see if dogs that ate meals even higher in protein are expected to get even sicker.\n",
        "\n",
        "Let's start with the _linear regression_. We can set what range we would like to extrapolate our data over by using the `x_range` argument in the plotting function. Let's extrapolate over the range `[0,100]`:\n"
      ],
      "metadata": {},
      "id": "ca71de29-3a4e-4a71-88b2-421ab2841804"
    },
    {
      "cell_type": "code",
      "source": [
        "# Show an extrapolated graph of the linear model\n",
        "graphing.scatter_2D(dataset, label_x=\"protein_content_of_last_meal\", \n",
        "                             label_y=\"core_temperature\",\n",
        "                             # We extrapolate over the following range\n",
        "                             x_range = [0,100],\n",
        "                             trendline=lambda x: simple_model.params[1] * x + simple_model.params[0])\n"
      ],
      "outputs": [],
      "execution_count": null,
      "metadata": {},
      "id": "d3f10e8c-6120-40cd-bc19-06c014bc098f"
    },
    {
      "cell_type": "markdown",
      "source": [
        "Next, we extrapolate the _polynomial regression_ over the same range:"
      ],
      "metadata": {},
      "id": "f32c71ff-782c-4e4b-8897-07d92ee425b2"
    },
    {
      "cell_type": "code",
      "source": [
        "# Show an extrapolated graph of the polynomial model\n",
        "graphing.scatter_2D(dataset, label_x=\"protein_content_of_last_meal\", \n",
        "                             label_y=\"core_temperature\",\n",
        "                             # We extrapolate over the following range\n",
        "                             x_range = [0,100],\n",
        "                             trendline=lambda x: polynomial_model.params[2] * x**2 + polynomial_model.params[1] * x + polynomial_model.params[0])\n"
      ],
      "outputs": [],
      "execution_count": null,
      "metadata": {},
      "id": "274674ec-71e8-47e3-a963-cf28cb2f51d2"
    },
    {
      "cell_type": "markdown",
      "source": [
        "These two graphs predict two very different things!\n",
        "\n",
        "The extrapolated _polynolmial regression_ expects `core_temperature` to go down, while the extrapolated _linear regression_ expects linear expects `core_temperature` to go up.\n",
        "A quick look at the graphs obtained in the previous exercise confirms that we should expect the `core_temeprature` to be rising as the `protein_content_of_last_meal` increases, not falling.\n",
        "\n",
        "In general, it's not recommended to extrapolate from a _polynomial regression_ unless you have an a-priori reason do so (which is only very rarely the case, so it's best to err on the side of caution, and never extrapolate from  _polynomial regressions_!)\n",
        "\n",
        "## Summary\n",
        "\n",
        "We covered the following concepts in this exercise:\n",
        "\n",
        "- Build _simple linear regression_ and _simple polynomial regression_ models.\n",
        "- Compare the performance of both models by plotting them, and looking at R-Squared values.\n",
        "- Extrapolated the models over a wider range of values."
      ],
      "metadata": {},
      "id": "a1c16354-d385-4a2d-8f23-a1a80e8b90b1"
    }
  ],
  "metadata": {
    "kernelspec": {
      "name": "conda-env-py38_default-py",
      "language": "python",
      "display_name": "py38_default"
    },
    "language_info": {
      "name": "python",
      "version": "3.7.9",
      "mimetype": "text/x-python",
      "codemirror_mode": {
        "name": "ipython",
        "version": 3
      },
      "pygments_lexer": "ipython3",
      "nbconvert_exporter": "python",
      "file_extension": ".py"
    },
    "kernel_info": {
      "name": "conda-env-py38_default-py"
    },
    "nteract": {
      "version": "nteract-front-end@1.0.0"
    }
  },
  "nbformat": 4,
  "nbformat_minor": 5
}