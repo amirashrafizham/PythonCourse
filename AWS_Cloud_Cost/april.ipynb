{
 "cells": [
  {
   "cell_type": "markdown",
   "metadata": {},
   "source": [
    "### Load Excel Files for April"
   ]
  },
  {
   "cell_type": "code",
   "execution_count": 2,
   "metadata": {},
   "outputs": [],
   "source": [
    "import pandas as pd\n",
    "import matplotlib.pyplot as plt\n",
    "\n",
    "import seaborn as sns\n",
    "import numpy as np\n",
    "\n",
    "\n",
    "april_file3 = pd.read_excel('APRIL_2022.xlsb', sheet_name='FILE 3', engine='pyxlsb')\n",
    "april_file4 = pd.read_excel('APRIL_2022.xlsb', sheet_name='FILE 4', engine='pyxlsb')\n",
    "april_file5 = pd.read_excel('APRIL_2022.xlsb', sheet_name='FILE 5', engine='pyxlsb')\n",
    "april_file6 = pd.read_excel('APRIL_2022.xlsb', sheet_name='FILE 6', engine='pyxlsb')\n",
    "april_file7 = pd.read_excel('APRIL_2022.xlsb', sheet_name='FILE 7', engine='pyxlsb')\n",
    "april_file8 = pd.read_excel('APRIL_2022.xlsb', sheet_name='FILE 8', engine='pyxlsb')\n",
    "april_file9 = pd.read_excel('APRIL_2022.xlsb', sheet_name='FILE 9', engine='pyxlsb')\n"
   ]
  },
  {
   "cell_type": "code",
   "execution_count": 3,
   "metadata": {},
   "outputs": [
    {
     "name": "stdout",
     "output_type": "stream",
     "text": [
      "Number of rows: 15804\n"
     ]
    }
   ],
   "source": [
    "\n",
    "april = pd.concat([april_file3, april_file4,april_file5,april_file6,april_file7,april_file8,april_file9], axis=0)\n",
    "\n",
    "print(f\"Number of rows: {len(april)}\")"
   ]
  },
  {
   "cell_type": "markdown",
   "metadata": {},
   "source": [
    "### Data Information\n",
    "\n",
    "| Name                          | Remarks                               |\n",
    "|-------------------------------|------------------------------         |\n",
    "| lineItem/UsageAccountId       |Dev, Stg, Production                   |\n",
    "| lineItem/ProductCode          |AWS Resources                          |\n",
    "| lineItem/ResourceId[Optional] |Shows the arn                          |\n",
    "| lineItem/UnblendedCost        |Shows the usage cost per resource      | \n",
    "| lineItem/LineItemType         |Tax, Savings etc.                      |\n",
    "\n",
    "\n",
    "\n",
    "Exclude the following to get the most accurate value: \n",
    "- credit\n",
    "- refund\n",
    "- saving plan recurring fee\n",
    "- saving plan negation\n",
    "- tax\n",
    "- edp\n",
    "\n",
    "\n"
   ]
  },
  {
   "cell_type": "markdown",
   "metadata": {},
   "source": [
    "### Calculate Costs/Resource/Environment"
   ]
  },
  {
   "cell_type": "code",
   "execution_count": 4,
   "metadata": {},
   "outputs": [
    {
     "data": {
      "text/html": [
       "<div>\n",
       "<style scoped>\n",
       "    .dataframe tbody tr th:only-of-type {\n",
       "        vertical-align: middle;\n",
       "    }\n",
       "\n",
       "    .dataframe tbody tr th {\n",
       "        vertical-align: top;\n",
       "    }\n",
       "\n",
       "    .dataframe thead th {\n",
       "        text-align: right;\n",
       "    }\n",
       "</style>\n",
       "<table border=\"1\" class=\"dataframe\">\n",
       "  <thead>\n",
       "    <tr style=\"text-align: right;\">\n",
       "      <th>lineItem/ProductCode</th>\n",
       "      <th>AWSELB</th>\n",
       "      <th>AWSLambda</th>\n",
       "      <th>AmazonCloudWatch</th>\n",
       "      <th>AmazonEC2</th>\n",
       "      <th>AmazonECR</th>\n",
       "      <th>AmazonECS</th>\n",
       "      <th>AmazonRDS</th>\n",
       "      <th>AmazonS3</th>\n",
       "    </tr>\n",
       "    <tr>\n",
       "      <th>lineItem/UsageAccountId</th>\n",
       "      <th></th>\n",
       "      <th></th>\n",
       "      <th></th>\n",
       "      <th></th>\n",
       "      <th></th>\n",
       "      <th></th>\n",
       "      <th></th>\n",
       "      <th></th>\n",
       "    </tr>\n",
       "  </thead>\n",
       "  <tbody>\n",
       "    <tr>\n",
       "      <th>1. Dev</th>\n",
       "      <td>181.457227</td>\n",
       "      <td>0.179759</td>\n",
       "      <td>1.146400</td>\n",
       "      <td>131.476670</td>\n",
       "      <td>1.698005</td>\n",
       "      <td>816.085798</td>\n",
       "      <td>950.034559</td>\n",
       "      <td>0.395421</td>\n",
       "    </tr>\n",
       "    <tr>\n",
       "      <th>2. Stg</th>\n",
       "      <td>54.450755</td>\n",
       "      <td>0.199525</td>\n",
       "      <td>0.901463</td>\n",
       "      <td>129.339565</td>\n",
       "      <td>0.606840</td>\n",
       "      <td>639.604585</td>\n",
       "      <td>1710.009065</td>\n",
       "      <td>0.002696</td>\n",
       "    </tr>\n",
       "    <tr>\n",
       "      <th>3. Prod</th>\n",
       "      <td>54.489718</td>\n",
       "      <td>NaN</td>\n",
       "      <td>0.655291</td>\n",
       "      <td>195.165075</td>\n",
       "      <td>0.294270</td>\n",
       "      <td>469.003528</td>\n",
       "      <td>83.985739</td>\n",
       "      <td>0.042266</td>\n",
       "    </tr>\n",
       "  </tbody>\n",
       "</table>\n",
       "</div>"
      ],
      "text/plain": [
       "lineItem/ProductCode         AWSELB  AWSLambda  AmazonCloudWatch   AmazonEC2  \\\n",
       "lineItem/UsageAccountId                                                        \n",
       "1. Dev                   181.457227   0.179759          1.146400  131.476670   \n",
       "2. Stg                    54.450755   0.199525          0.901463  129.339565   \n",
       "3. Prod                   54.489718        NaN          0.655291  195.165075   \n",
       "\n",
       "lineItem/ProductCode     AmazonECR   AmazonECS    AmazonRDS  AmazonS3  \n",
       "lineItem/UsageAccountId                                                \n",
       "1. Dev                    1.698005  816.085798   950.034559  0.395421  \n",
       "2. Stg                    0.606840  639.604585  1710.009065  0.002696  \n",
       "3. Prod                   0.294270  469.003528    83.985739  0.042266  "
      ]
     },
     "execution_count": 4,
     "metadata": {},
     "output_type": "execute_result"
    }
   ],
   "source": [
    "\n",
    "env_dict = {116698182371: '3. Prod',    \n",
    "900051432098: '1. Dev',    \n",
    "729890003133: '2. Stg'}    \n",
    "\n",
    "# transform column\n",
    "april['lineItem/UsageAccountId'] = april['lineItem/UsageAccountId'].map(env_dict) \n",
    "\n",
    "resources_cost_env_unblended = april.groupby([\n",
    "    'lineItem/ProductCode', 'lineItem/UsageAccountId'])[\"lineItem/UnblendedCost\"].sum().reset_index()\n",
    "\n",
    "resources_cost_env_unblended.pivot(columns='lineItem/ProductCode',\n",
    "         index='lineItem/UsageAccountId',\n",
    "         values='lineItem/UnblendedCost')\n"
   ]
  },
  {
   "cell_type": "code",
   "execution_count": 6,
   "metadata": {},
   "outputs": [
    {
     "data": {
      "image/png": "[encoded data removed]",
      "text/plain": [
       "<Figure size 432x288 with 1 Axes>"
      ]
     },
     "metadata": {
      "needs_background": "light"
     },
     "output_type": "display_data"
    }
   ],
   "source": [
    "\n",
    "ax = sns.barplot(data=resources_cost_env_unblended,\n",
    "            x='lineItem/UsageAccountId', y='lineItem/UnblendedCost', hue=\"lineItem/ProductCode\")\n",
    "\n",
    "plt.setp(ax.get_legend().get_texts(), fontsize='8')  # for legend text\n",
    "plt.setp(ax.get_legend().get_title(), fontsize='10')  # for legend title\n",
    "\n",
    "plt.show()"
   ]
  }
 ],
 "metadata": {
  "kernelspec": {
   "display_name": "Python 3.9.13 ('env': venv)",
   "language": "python",
   "name": "python3"
  },
  "language_info": {
   "codemirror_mode": {
    "name": "ipython",
    "version": 3
   },
   "file_extension": ".py",
   "mimetype": "text/x-python",
   "name": "python",
   "nbconvert_exporter": "python",
   "pygments_lexer": "ipython3",
   "version": "3.9.13"
  },
  "orig_nbformat": 4,
  "vscode": {
   "interpreter": {
    "hash": "4a948f24f19950b044d13f49e2164e8f2119526620429b7b56022f9f06faf8a5"
   }
  }
 },
 "nbformat": 4,
 "nbformat_minor": 2
}
