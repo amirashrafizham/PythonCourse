{
 "cells": [
  {
   "cell_type": "markdown",
   "metadata": {},
   "source": [
    "### Load Excel Files for March"
   ]
  },
  {
   "cell_type": "code",
   "execution_count": 6,
   "metadata": {},
   "outputs": [],
   "source": [
    "import pandas as pd\n",
    "import matplotlib.pyplot as plt\n",
    "\n",
    "import seaborn as sns\n",
    "import numpy as np\n",
    "\n",
    "\n",
    "march_file1 = pd.read_excel('MARCH_2022.xlsb', sheet_name='FILE 1', engine='pyxlsb')\n",
    "march_file2 = pd.read_excel('MARCH_2022.xlsb', sheet_name='FILE 2', engine='pyxlsb')\n",
    "march_file3 = pd.read_excel('MARCH_2022.xlsb', sheet_name='FILE 3', engine='pyxlsb')\n",
    "march_file4 = pd.read_excel('MARCH_2022.xlsb', sheet_name='FILE 4', engine='pyxlsb')\n",
    "march_file5 = pd.read_excel('MARCH_2022.xlsb', sheet_name='FILE 5', engine='pyxlsb')\n",
    "march_file6 = pd.read_excel('MARCH_2022.xlsb', sheet_name='FILE 6', engine='pyxlsb')\n"
   ]
  },
  {
   "cell_type": "code",
   "execution_count": 7,
   "metadata": {},
   "outputs": [
    {
     "name": "stdout",
     "output_type": "stream",
     "text": [
      "Number of rows: 13831\n"
     ]
    }
   ],
   "source": [
    "\n",
    "march = pd.concat([march_file1, march_file2, march_file3,march_file4,march_file5,march_file6], axis=0)\n",
    "\n",
    "print(f\"Number of rows: {len(march)}\")"
   ]
  },
  {
   "cell_type": "markdown",
   "metadata": {},
   "source": [
    "### Data Information\n",
    "\n",
    "| Name                          | Remarks                               |\n",
    "|-------------------------------|------------------------------         |\n",
    "| lineItem/UsageAccountId       |Dev, Stg, Production                   |\n",
    "| lineItem/ProductCode          |AWS Resources                          |\n",
    "| lineItem/ResourceId[Optional] |Shows the arn                          |\n",
    "| lineItem/UnblendedCost        |Shows the usage cost per resource      | \n",
    "| lineItem/LineItemType         |Tax, Savings etc.                      |\n",
    "\n",
    "\n",
    "\n",
    "Exclude the following to get the most accurate value: \n",
    "- credit\n",
    "- refund\n",
    "- saving plan recurring fee\n",
    "- saving plan negation\n",
    "- tax\n",
    "- edp\n",
    "\n",
    "\n"
   ]
  },
  {
   "cell_type": "markdown",
   "metadata": {},
   "source": [
    "### Calculate Costs/Resource/Environment"
   ]
  },
  {
   "cell_type": "code",
   "execution_count": 8,
   "metadata": {},
   "outputs": [
    {
     "data": {
      "text/html": [
       "<div>\n",
       "<style scoped>\n",
       "    .dataframe tbody tr th:only-of-type {\n",
       "        vertical-align: middle;\n",
       "    }\n",
       "\n",
       "    .dataframe tbody tr th {\n",
       "        vertical-align: top;\n",
       "    }\n",
       "\n",
       "    .dataframe thead th {\n",
       "        text-align: right;\n",
       "    }\n",
       "</style>\n",
       "<table border=\"1\" class=\"dataframe\">\n",
       "  <thead>\n",
       "    <tr style=\"text-align: right;\">\n",
       "      <th>lineItem/ProductCode</th>\n",
       "      <th>AWSELB</th>\n",
       "      <th>AWSLambda</th>\n",
       "      <th>AmazonCloudWatch</th>\n",
       "      <th>AmazonEC2</th>\n",
       "      <th>AmazonECR</th>\n",
       "      <th>AmazonECS</th>\n",
       "      <th>AmazonRDS</th>\n",
       "      <th>AmazonS3</th>\n",
       "    </tr>\n",
       "    <tr>\n",
       "      <th>lineItem/UsageAccountId</th>\n",
       "      <th></th>\n",
       "      <th></th>\n",
       "      <th></th>\n",
       "      <th></th>\n",
       "      <th></th>\n",
       "      <th></th>\n",
       "      <th></th>\n",
       "      <th></th>\n",
       "    </tr>\n",
       "  </thead>\n",
       "  <tbody>\n",
       "    <tr>\n",
       "      <th>1. Dev</th>\n",
       "      <td>106.502210</td>\n",
       "      <td>1.450613</td>\n",
       "      <td>2.751711</td>\n",
       "      <td>112.086138</td>\n",
       "      <td>1.413321</td>\n",
       "      <td>945.761837</td>\n",
       "      <td>759.680424</td>\n",
       "      <td>0.265763</td>\n",
       "    </tr>\n",
       "    <tr>\n",
       "      <th>2. Stg</th>\n",
       "      <td>42.974927</td>\n",
       "      <td>0.736078</td>\n",
       "      <td>2.263490</td>\n",
       "      <td>112.225799</td>\n",
       "      <td>0.539308</td>\n",
       "      <td>698.456787</td>\n",
       "      <td>1306.086152</td>\n",
       "      <td>0.001613</td>\n",
       "    </tr>\n",
       "    <tr>\n",
       "      <th>3. Prod</th>\n",
       "      <td>45.388218</td>\n",
       "      <td>NaN</td>\n",
       "      <td>1.087597</td>\n",
       "      <td>174.220775</td>\n",
       "      <td>0.214694</td>\n",
       "      <td>467.554456</td>\n",
       "      <td>50.146251</td>\n",
       "      <td>0.033765</td>\n",
       "    </tr>\n",
       "  </tbody>\n",
       "</table>\n",
       "</div>"
      ],
      "text/plain": [
       "lineItem/ProductCode         AWSELB  AWSLambda  AmazonCloudWatch   AmazonEC2  \\\n",
       "lineItem/UsageAccountId                                                        \n",
       "1. Dev                   106.502210   1.450613          2.751711  112.086138   \n",
       "2. Stg                    42.974927   0.736078          2.263490  112.225799   \n",
       "3. Prod                   45.388218        NaN          1.087597  174.220775   \n",
       "\n",
       "lineItem/ProductCode     AmazonECR   AmazonECS    AmazonRDS  AmazonS3  \n",
       "lineItem/UsageAccountId                                                \n",
       "1. Dev                    1.413321  945.761837   759.680424  0.265763  \n",
       "2. Stg                    0.539308  698.456787  1306.086152  0.001613  \n",
       "3. Prod                   0.214694  467.554456    50.146251  0.033765  "
      ]
     },
     "execution_count": 8,
     "metadata": {},
     "output_type": "execute_result"
    }
   ],
   "source": [
    "\n",
    "env_dict = {116698182371: '3. Prod',    \n",
    "900051432098: '1. Dev',    \n",
    "729890003133: '2. Stg'}    \n",
    "\n",
    "# transform column\n",
    "march['lineItem/UsageAccountId'] = march['lineItem/UsageAccountId'].map(env_dict) \n",
    "\n",
    "resources_cost_env_unblended = march.groupby([\n",
    "    'lineItem/ProductCode', 'lineItem/UsageAccountId'])[\"lineItem/UnblendedCost\"].sum().reset_index()\n",
    "\n",
    "resources_cost_env_unblended.pivot(columns='lineItem/ProductCode',\n",
    "         index='lineItem/UsageAccountId',\n",
    "         values='lineItem/UnblendedCost')\n"
   ]
  },
  {
   "cell_type": "code",
   "execution_count": 12,
   "metadata": {},
   "outputs": [
    {
     "data": {
      "image/png": "[encoded data removed]",
      "text/plain": [
       "<Figure size 432x288 with 1 Axes>"
      ]
     },
     "metadata": {
      "needs_background": "light"
     },
     "output_type": "display_data"
    }
   ],
   "source": [
    "\n",
    "ax = sns.barplot(data=resources_cost_env_unblended,\n",
    "            x='lineItem/UsageAccountId', y='lineItem/UnblendedCost', hue=\"lineItem/ProductCode\")\n",
    "\n",
    "plt.setp(ax.get_legend().get_texts(), fontsize='8')  # for legend text\n",
    "plt.setp(ax.get_legend().get_title(), fontsize='10')  # for legend title\n",
    "\n",
    "plt.show()"
   ]
  }
 ],
 "metadata": {
  "kernelspec": {
   "display_name": "Python 3.9.13 ('env': venv)",
   "language": "python",
   "name": "python3"
  },
  "language_info": {
   "codemirror_mode": {
    "name": "ipython",
    "version": 3
   },
   "file_extension": ".py",
   "mimetype": "text/x-python",
   "name": "python",
   "nbconvert_exporter": "python",
   "pygments_lexer": "ipython3",
   "version": "3.9.13"
  },
  "orig_nbformat": 4,
  "vscode": {
   "interpreter": {
    "hash": "4a948f24f19950b044d13f49e2164e8f2119526620429b7b56022f9f06faf8a5"
   }
  }
 },
 "nbformat": 4,
 "nbformat_minor": 2
}
